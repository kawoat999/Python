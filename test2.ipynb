{
 "cells": [
  {
   "cell_type": "code",
   "execution_count": 13,
   "metadata": {},
   "outputs": [
    {
     "name": "stdout",
     "output_type": "stream",
     "text": [
      "hello world\n",
      "Hello\n",
      "I am kawoat\n",
      "12345\n"
     ]
    }
   ],
   "source": [
    "print(\"hello world\") #this is good\n",
    "print(\"Hello\",\"I am kawoat\",\"12345\" ,sep=\"\\n\",end=\"\\n\")"
   ]
  },
  {
   "cell_type": "code",
   "execution_count": 16,
   "metadata": {},
   "outputs": [],
   "source": [
    "# Data type\n",
    "# 1. String (text)\n",
    "# 2. Integer (1,2,3,67,2983, -1)\n",
    "# 3. floating (1.98)\n",
    "# 4. Boolean (yes/no)\n",
    "# 5. Nontype ( nothing )"
   ]
  }
 ],
 "metadata": {
  "kernelspec": {
   "display_name": "kawoat",
   "language": "python",
   "name": "python3"
  },
  "language_info": {
   "codemirror_mode": {
    "name": "ipython",
    "version": 3
   },
   "file_extension": ".py",
   "mimetype": "text/x-python",
   "name": "python",
   "nbconvert_exporter": "python",
   "pygments_lexer": "ipython3",
   "version": "3.12.4"
  }
 },
 "nbformat": 4,
 "nbformat_minor": 2
}
