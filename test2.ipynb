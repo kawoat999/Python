{
 "cells": [
  {
   "cell_type": "code",
   "execution_count": 13,
   "metadata": {},
   "outputs": [
    {
     "name": "stdout",
     "output_type": "stream",
     "text": [
      "hello world\n",
      "Hello\n",
      "I am kawoat\n",
      "12345\n"
     ]
    }
   ],
   "source": [
    "print(\"hello world\") #this is good\n",
    "print(\"Hello\",\"I am kawoat\",\"12345\" ,sep=\"\\n\",end=\"\\n\")"
   ]
  },
  {
   "cell_type": "code",
   "execution_count": 16,
   "metadata": {},
   "outputs": [],
   "source": [
    "# Data type\n",
    "# 1. String (text)\n",
    "# 2. Integer (1,2,3,67,2983, -1)\n",
    "# 3. floating (1.98)\n",
    "# 4. Boolean (yes/no)\n",
    "# 5. Nontype ( nothing )"
   ]
  },
  {
   "cell_type": "code",
   "execution_count": null,
   "metadata": {},
   "outputs": [],
   "source": [
    "age = 18\n",
    "firstname = \"kawoat\""
   ]
  },
  {
   "cell_type": "code",
   "execution_count": null,
   "metadata": {},
   "outputs": [],
   "source": [
    "name_input = input()\n",
    "print(\"Hello\" , name_input) "
   ]
  },
  {
   "cell_type": "code",
   "execution_count": 5,
   "metadata": {},
   "outputs": [
    {
     "name": "stdout",
     "output_type": "stream",
     "text": [
      "a= 50 <class 'int'>\n"
     ]
    }
   ],
   "source": [
    "a = int(input(50))\n",
    "print(\"a=\",a , type(a))"
   ]
  },
  {
   "cell_type": "code",
   "execution_count": 2,
   "metadata": {},
   "outputs": [],
   "source": [
    "# float()\n",
    "a = float(-2)\n"
   ]
  },
  {
   "cell_type": "code",
   "execution_count": 1,
   "metadata": {},
   "outputs": [
    {
     "name": "stdout",
     "output_type": "stream",
     "text": [
      "True <class 'bool'>\n"
     ]
    }
   ],
   "source": [
    "# bool()\n",
    "a = bool(1)\n",
    "a = bool(3)\n",
    "a = bool(-4)\n",
    "print(a,type(a))"
   ]
  },
  {
   "cell_type": "code",
   "execution_count": 7,
   "metadata": {},
   "outputs": [
    {
     "name": "stdout",
     "output_type": "stream",
     "text": [
      "a= 2 <class 'str'>\n"
     ]
    }
   ],
   "source": [
    "#str\n",
    "a = str(1)\n",
    "a = str(True)\n",
    "a = str(2)\n",
    "print(\"a=\" , a , type(a))"
   ]
  },
  {
   "cell_type": "code",
   "execution_count": 8,
   "metadata": {},
   "outputs": [
    {
     "name": "stdout",
     "output_type": "stream",
     "text": [
      "True <class 'bool'>\n"
     ]
    }
   ],
   "source": [
    "a = bool(str(float(-2)))\n",
    "print(a , type(a))"
   ]
  },
  {
   "cell_type": "markdown",
   "metadata": {},
   "source": [
    "# Math"
   ]
  },
  {
   "cell_type": "code",
   "execution_count": 10,
   "metadata": {},
   "outputs": [
    {
     "name": "stdout",
     "output_type": "stream",
     "text": [
      "6\n"
     ]
    }
   ],
   "source": [
    "a = 1 + 1\n",
    "a = 6 - 3\n",
    "a = 4 * 5\n",
    "a = int(6 / 3)\n",
    "a = 6 // 3\n",
    "a = 7 / 3\n",
    "a = 7 // 3\n",
    "a = 2 ** 3\n",
    "a = 20 % 7\n",
    "print(a)"
   ]
  },
  {
   "cell_type": "code",
   "execution_count": 17,
   "metadata": {},
   "outputs": [
    {
     "name": "stdout",
     "output_type": "stream",
     "text": [
      "1.5\n"
     ]
    }
   ],
   "source": [
    "a = (2 + 2) - (2 * 2) + (3 / 2)\n",
    "print(a)"
   ]
  },
  {
   "cell_type": "code",
   "execution_count": null,
   "metadata": {},
   "outputs": [],
   "source": [
    "a = 1\n",
    "a = a + 4 \n",
    "a += 4 # a = a + 4"
   ]
  },
  {
   "cell_type": "markdown",
   "metadata": {},
   "source": [
    "# logical operators"
   ]
  },
  {
   "cell_type": "code",
   "execution_count": 39,
   "metadata": {},
   "outputs": [
    {
     "data": {
      "text/plain": [
       "True"
      ]
     },
     "execution_count": 39,
     "metadata": {},
     "output_type": "execute_result"
    }
   ],
   "source": [
    "a = 5\n",
    "2 > 3\n",
    "a < 7\n",
    "a < 2\n",
    "a <= 5\n",
    "a >= 9\n",
    "a != 2"
   ]
  },
  {
   "cell_type": "code",
   "execution_count": 55,
   "metadata": {},
   "outputs": [
    {
     "name": "stdout",
     "output_type": "stream",
     "text": [
      "hello\n",
      "hello\n",
      "hello\n",
      "hello\n",
      "hello\n",
      "hello\n",
      "hello\n",
      "hello\n",
      "hello\n",
      "hello\n"
     ]
    }
   ],
   "source": [
    "for x in range(10):\n",
    "    print(\"hello\")"
   ]
  },
  {
   "cell_type": "code",
   "execution_count": null,
   "metadata": {},
   "outputs": [],
   "source": [
    "user_input = int(input())\n",
    "user_firstname = input()\n"
   ]
  },
  {
   "cell_type": "markdown",
   "metadata": {},
   "source": [
    "# Adder Program"
   ]
  },
  {
   "cell_type": "code",
   "execution_count": 62,
   "metadata": {},
   "outputs": [
    {
     "name": "stdout",
     "output_type": "stream",
     "text": [
      "3\n"
     ]
    }
   ],
   "source": [
    "first_name = int(input())\n",
    "second_name = int(input())\n",
    "adder_result = first_name + second_name\n",
    "print(adder_result)"
   ]
  },
  {
   "cell_type": "code",
   "execution_count": 67,
   "metadata": {},
   "outputs": [
    {
     "name": "stdout",
     "output_type": "stream",
     "text": [
      "F = 95.9\n"
     ]
    }
   ],
   "source": [
    "C = float(input(\"C\"))\n",
    "F = (C * (9 / 5)) + 32\n",
    "print(\"F =\" , F)"
   ]
  },
  {
   "cell_type": "code",
   "execution_count": null,
   "metadata": {},
   "outputs": [],
   "source": [
    "a = 2\n",
    "a = 3\n",
    "a = 4\n",
    "#Ctrl + D เลือกทั้งหมดที่เหมือนกัน"
   ]
  },
  {
   "cell_type": "markdown",
   "metadata": {},
   "source": [
    "# Maths Function"
   ]
  },
  {
   "cell_type": "code",
   "execution_count": 69,
   "metadata": {},
   "outputs": [
    {
     "data": {
      "text/plain": [
       "5"
      ]
     },
     "execution_count": 69,
     "metadata": {},
     "output_type": "execute_result"
    }
   ],
   "source": [
    "max(23, 5, 6 , 4)\n",
    "min(23 , 5 , 7 , 6)\n"
   ]
  },
  {
   "cell_type": "markdown",
   "metadata": {},
   "source": [
    "# Turtle Library"
   ]
  },
  {
   "cell_type": "code",
   "execution_count": 74,
   "metadata": {},
   "outputs": [],
   "source": [
    "# import turtle"
   ]
  },
  {
   "cell_type": "code",
   "execution_count": 80,
   "metadata": {},
   "outputs": [
    {
     "ename": "",
     "evalue": "",
     "output_type": "error",
     "traceback": [
      "\u001b[1;31mThe Kernel crashed while executing code in the current cell or a previous cell. \n",
      "\u001b[1;31mPlease review the code in the cell(s) to identify a possible cause of the failure. \n",
      "\u001b[1;31mClick <a href='https://aka.ms/vscodeJupyterKernelCrash'>here</a> for more info. \n",
      "\u001b[1;31mView Jupyter <a href='command:jupyter.viewOutput'>log</a> for further details."
     ]
    }
   ],
   "source": [
    "# turtle()"
   ]
  },
  {
   "cell_type": "markdown",
   "metadata": {},
   "source": []
  },
  {
   "cell_type": "markdown",
   "metadata": {},
   "source": [
    "# Home work"
   ]
  },
  {
   "cell_type": "code",
   "execution_count": 16,
   "metadata": {},
   "outputs": [],
   "source": [
    "import turtle\n",
    "\n",
    "turtle.width(5)\n",
    "turtle.forward(1)\n",
    "turtle.color(\"black\")\n",
    "\n",
    "turtle.fillcolor(\"red\")\n",
    "turtle.begin_fill()\n",
    "\n",
    "turtle.circle(30)\n",
    "turtle.penup()\n",
    "turtle.forward(60)\n",
    "turtle.pendown()\n",
    "turtle.circle(30)\n",
    "turtle.penup()\n",
    "turtle.forward(60)\n",
    "turtle.pendown()\n",
    "turtle.circle(30)\n",
    "\n",
    "turtle.end_fill()\n",
    "\n",
    "turtle.color(\"black\")\n",
    "\n",
    "turtle.fillcolor(\"blue\")\n",
    "turtle.begin_fill()\n",
    "\n",
    "\n",
    "turtle.left(-110)\n",
    "turtle.forward(200)\n",
    "turtle.right(145)\n",
    "turtle.forward(200)\n",
    "turtle.right(105)\n",
    "turtle.forward(150)\n",
    "turtle.left(180)\n",
    "turtle.forward(150)\n",
    "turtle.right(90)\n",
    "\n",
    "turtle.end_fill()\n",
    "\n",
    "turtle.penup()\n",
    "turtle.right(-5)\n",
    "turtle.forward(60)\n",
    "turtle.pendown()\n",
    "\n",
    "turtle.fillcolor(\"green\")\n",
    "turtle.begin_fill()\n",
    "\n",
    "turtle.color(\"green\")\n",
    "turtle.circle(-70,190)\n",
    "turtle.right(175)\n",
    "turtle.circle(10,180)\n",
    "turtle.right(180)\n",
    "turtle.circle(10,180)\n",
    "turtle.right(180)\n",
    "turtle.circle(10,180)\n",
    "turtle.right(180)\n",
    "turtle.circle(10,180)\n",
    "turtle.right(180)\n",
    "turtle.circle(10,180)\n",
    "turtle.right(180)\n",
    "turtle.circle(10,180)\n",
    "turtle.right(180)\n",
    "turtle.circle(10,180)\n",
    "\n",
    "turtle.end_fill()\n",
    "\n",
    "turtle.penup()\n",
    "turtle.left(180)\n",
    "turtle.forward(100)\n",
    "turtle.right(90)\n",
    "turtle.forward(50)\n",
    "\n",
    "turtle.color(\"red\")\n",
    "turtle.pendown()\n",
    "turtle.fillcolor(\"red\")\n",
    "turtle.begin_fill()\n",
    "turtle.circle(-20)\n",
    "turtle.end_fill()\n",
    "turtle.penup()\n",
    "turtle.right(90)\n",
    "turtle.forward(20)\n",
    "turtle.left(140)\n",
    "turtle.forward(10)\n",
    "turtle.color(\"black\")\n",
    "turtle.pendown()\n",
    "turtle.forward(30)\n",
    "\n",
    "\n",
    "turtle.mainloop()"
   ]
  },
  {
   "cell_type": "markdown",
   "metadata": {},
   "source": [
    "# Day5"
   ]
  },
  {
   "cell_type": "code",
   "execution_count": null,
   "metadata": {},
   "outputs": [],
   "source": [
    "PI = 3.14\n",
    "Math = 2.7\n"
   ]
  },
  {
   "cell_type": "code",
   "execution_count": 22,
   "metadata": {},
   "outputs": [
    {
     "name": "stdout",
     "output_type": "stream",
     "text": [
      "Nooo\n"
     ]
    }
   ],
   "source": [
    "if (3 >= 2) and (6 > 5):\n",
    "    print(\"Nooo\")"
   ]
  },
  {
   "cell_type": "code",
   "execution_count": 24,
   "metadata": {},
   "outputs": [
    {
     "name": "stdout",
     "output_type": "stream",
     "text": [
      "Nooo\n"
     ]
    }
   ],
   "source": [
    "if not((3 <= 2) and (6 > 5)):\n",
    "    print(\"Nooo\")"
   ]
  },
  {
   "cell_type": "code",
   "execution_count": 27,
   "metadata": {},
   "outputs": [
    {
     "name": "stdout",
     "output_type": "stream",
     "text": [
      "Yess\n",
      "WOW\n"
     ]
    }
   ],
   "source": [
    "if 5 > 4 and 8 > 4:\n",
    "    if 5 < 4:\n",
    "        print(\"nooo\")\n",
    "    print(\"Yess\") \n",
    "print(\"WOW\")      "
   ]
  },
  {
   "cell_type": "markdown",
   "metadata": {},
   "source": [
    "# Elif"
   ]
  },
  {
   "cell_type": "code",
   "execution_count": 33,
   "metadata": {},
   "outputs": [
    {
     "name": "stdout",
     "output_type": "stream",
     "text": [
      "a\n"
     ]
    }
   ],
   "source": [
    "a = float(input())\n",
    "\n",
    "if a < 50:\n",
    "    print(\"yes\")\n",
    "elif a > 50 :\n",
    "    print(\"no\")\n",
    "else:\n",
    "    print('a')"
   ]
  },
  {
   "cell_type": "code",
   "execution_count": 37,
   "metadata": {},
   "outputs": [
    {
     "name": "stdout",
     "output_type": "stream",
     "text": [
      "A\n"
     ]
    }
   ],
   "source": [
    "a = int(input())\n",
    "\n",
    "if a > 3:\n",
    "    print(\"A\")\n",
    "elif a > 10: \n",
    "    print(\"B\")\n",
    "elif a > 20:\n",
    "    print(\"C\") \n",
    "elif a < 4:\n",
    "    print(\"D\")        "
   ]
  },
  {
   "cell_type": "code",
   "execution_count": 43,
   "metadata": {},
   "outputs": [
    {
     "name": "stdout",
     "output_type": "stream",
     "text": [
      "pizza\n",
      "water\n"
     ]
    }
   ],
   "source": [
    "pocket_money = float(input(\"Money\"))\n",
    "age = int(input(\"AGE\"))\n",
    "\n",
    "if pocket_money > 3000:\n",
    "    print(\"pizza\")\n",
    "    if age < 20:\n",
    "        print('water')\n",
    "    else:\n",
    "        print(\"alcohol\")\n",
    "elif pocket_money > 2000:\n",
    "    print('Buffet')\n",
    "    print('cocacola') \n",
    "elif pocket_money > 200:\n",
    "    print('somtam')\n",
    "    print('water')\n",
    "elif pocket_money < 100:\n",
    "    print(\"Mama\")\n",
    "    print('water')\n"
   ]
  },
  {
   "cell_type": "code",
   "execution_count": 46,
   "metadata": {},
   "outputs": [
    {
     "name": "stdout",
     "output_type": "stream",
     "text": [
      "10\n"
     ]
    }
   ],
   "source": [
    "a = int(input())\n",
    "b = int(input())\n",
    "print(a % b)"
   ]
  },
  {
   "cell_type": "code",
   "execution_count": 48,
   "metadata": {},
   "outputs": [
    {
     "name": "stdout",
     "output_type": "stream",
     "text": [
      "0\n"
     ]
    }
   ],
   "source": [
    "p = int(input())\n",
    "print(p % 10)"
   ]
  },
  {
   "cell_type": "code",
   "execution_count": 52,
   "metadata": {},
   "outputs": [
    {
     "name": "stdout",
     "output_type": "stream",
     "text": [
      "456\n"
     ]
    }
   ],
   "source": [
    "ngl = input()\n",
    "F = int(str(ngl))\n",
    "print(F)"
   ]
  }
 ],
 "metadata": {
  "kernelspec": {
   "display_name": "kawoat",
   "language": "python",
   "name": "python3"
  },
  "language_info": {
   "codemirror_mode": {
    "name": "ipython",
    "version": 3
   },
   "file_extension": ".py",
   "mimetype": "text/x-python",
   "name": "python",
   "nbconvert_exporter": "python",
   "pygments_lexer": "ipython3",
   "version": "3.12.4"
  }
 },
 "nbformat": 4,
 "nbformat_minor": 2
}
